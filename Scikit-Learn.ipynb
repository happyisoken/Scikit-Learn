{
 "cells": [
  {
   "cell_type": "markdown",
   "id": "436a329c-7ad2-4ff8-8a7b-c9d4735a62eb",
   "metadata": {},
   "source": [
    "#### What is Machine Learning?\n",
    "\n",
    "It is a type of Artificial Intelligence that allows software applications to learn from the data and become more accurate in predicting outcomes without human intervention.\n",
    "\n",
    "Training Data -> Learn Algorithm -> Build Model -> Perform -> Feedback -> Back to Learn Algorithm.\n",
    "\n",
    "It can be used in various other domains such\n",
    "- Analytics\n",
    "- Weather forecasting\n",
    "- Predict stock prices\n",
    "\n",
    "##### Classification of Machine Learning\n",
    "1. Supervised Learning: This is the process of an algorithm learning from the training dataset. This learning stops whenever the algorithm achieves an acceptable level of performance. It is also known as predictive modelling.\n",
    "2. Unsupervised Learning: This is the process where a model is trained using an information which is not labelled. In this process of learning, there is no one supervising the process - no teacher. It is also called clustering analysis.\n",
    "3. Reinforcement Learning: This is learning by interacting with a space or an environment. A reward is given for each action. If a machine chooses a correct option, it gets a reward. The machine learns from the consequences of its action rather than being taught exclusively.\n",
    "\n",
    "#### What is Sckit-learn and how does it help with Machine Learnin?\n",
    "This is library which is used to perform machine learning in python\n",
    "\n",
    "###### Introduction to Scikit-learn\n",
    "- It is an open source library which is licensed under BSD.\n",
    "- It is built on Numpy, Scipy and Matplotlib.\n",
    "- It has many tuning Parameters. \n",
    "- Documentation and support.\n",
    "\n",
    "#### Installation of Sckit-learn\n",
    "Commands:\n",
    "- pip install scikit-learn\n",
    "        OR\n",
    "- conda install scikit-learn\n",
    "\n",
    "To implement any algorithm using scikit-learn\n",
    "- from sklearn.family import Model.\n",
    "For example: from sklearn.linear_model import LinearRegression\n",
    "\n",
    "#### Regression and Clustering\n",
    "Regression and Classification\n",
    "- Regression: the prediction of numeric value and often takes input as a continuous value.\n",
    "- Classification: is the problem identifying to which set of categories a new observation belongs.\n",
    "\n",
    "##### Dataset\n",
    "The IRIS Dataset\n",
    "- The dataset consists of 50 samples from three species of Iris - Setosa, Virginica and Versicolor\n",
    "- Four features were measured from each sample: Length and the Width of the sepals and petals, in centimetres. \n",
    "\n",
    "##### Classification Algorithms\n",
    "- Decision Tree\n",
    "- Random Forest\n",
    "- Naiive Bayes Classifer\n",
    "- Support Vector Machine(SVM)\n",
    "\n",
    "#### Support Vector Machine(SVM)\n",
    "- SVM is a supervised ML algorithm which can be used for both classification or regression challenges.\n",
    "- It tries to define a hyperplane which can split the data in the most optimal way.\n",
    "- A Hyperplane allows you to categorise data points into different classes.\n",
    "\n",
    "#### SVM Use-Case\n",
    "Problem Statement: Use SVM on the iris dataset and we will create a model which can classify the flowers based on their features. "
   ]
  },
  {
   "cell_type": "markdown",
   "id": "e332f184-765e-46c6-aa20-8edc60b18a04",
   "metadata": {},
   "source": [
    "**Scikit-Learn Tutorial** "
   ]
  },
  {
   "cell_type": "code",
   "execution_count": 1,
   "id": "c583b2c6-16b7-4377-9e59-c36e303e4e0e",
   "metadata": {},
   "outputs": [],
   "source": [
    "# Import the library\n",
    "from sklearn import svm\n",
    "from sklearn import datasets"
   ]
  },
  {
   "cell_type": "code",
   "execution_count": 2,
   "id": "b91bd35a-4e42-4faf-a507-fdbdecc6a57d",
   "metadata": {},
   "outputs": [],
   "source": [
    "iris = datasets.load_iris()"
   ]
  },
  {
   "cell_type": "code",
   "execution_count": 3,
   "id": "dad1cdc6-ba0a-4a73-801e-36bd90b6b668",
   "metadata": {},
   "outputs": [
    {
     "data": {
      "text/plain": [
       "sklearn.utils.Bunch"
      ]
     },
     "execution_count": 3,
     "metadata": {},
     "output_type": "execute_result"
    }
   ],
   "source": [
    "type(iris)"
   ]
  },
  {
   "cell_type": "code",
   "execution_count": 4,
   "id": "127b4369-e672-474d-8ca4-a272e747947b",
   "metadata": {},
   "outputs": [
    {
     "data": {
      "text/plain": [
       "array([[5.1, 3.5, 1.4, 0.2],\n",
       "       [4.9, 3. , 1.4, 0.2],\n",
       "       [4.7, 3.2, 1.3, 0.2],\n",
       "       [4.6, 3.1, 1.5, 0.2],\n",
       "       [5. , 3.6, 1.4, 0.2],\n",
       "       [5.4, 3.9, 1.7, 0.4],\n",
       "       [4.6, 3.4, 1.4, 0.3],\n",
       "       [5. , 3.4, 1.5, 0.2],\n",
       "       [4.4, 2.9, 1.4, 0.2],\n",
       "       [4.9, 3.1, 1.5, 0.1],\n",
       "       [5.4, 3.7, 1.5, 0.2],\n",
       "       [4.8, 3.4, 1.6, 0.2],\n",
       "       [4.8, 3. , 1.4, 0.1],\n",
       "       [4.3, 3. , 1.1, 0.1],\n",
       "       [5.8, 4. , 1.2, 0.2],\n",
       "       [5.7, 4.4, 1.5, 0.4],\n",
       "       [5.4, 3.9, 1.3, 0.4],\n",
       "       [5.1, 3.5, 1.4, 0.3],\n",
       "       [5.7, 3.8, 1.7, 0.3],\n",
       "       [5.1, 3.8, 1.5, 0.3],\n",
       "       [5.4, 3.4, 1.7, 0.2],\n",
       "       [5.1, 3.7, 1.5, 0.4],\n",
       "       [4.6, 3.6, 1. , 0.2],\n",
       "       [5.1, 3.3, 1.7, 0.5],\n",
       "       [4.8, 3.4, 1.9, 0.2],\n",
       "       [5. , 3. , 1.6, 0.2],\n",
       "       [5. , 3.4, 1.6, 0.4],\n",
       "       [5.2, 3.5, 1.5, 0.2],\n",
       "       [5.2, 3.4, 1.4, 0.2],\n",
       "       [4.7, 3.2, 1.6, 0.2],\n",
       "       [4.8, 3.1, 1.6, 0.2],\n",
       "       [5.4, 3.4, 1.5, 0.4],\n",
       "       [5.2, 4.1, 1.5, 0.1],\n",
       "       [5.5, 4.2, 1.4, 0.2],\n",
       "       [4.9, 3.1, 1.5, 0.2],\n",
       "       [5. , 3.2, 1.2, 0.2],\n",
       "       [5.5, 3.5, 1.3, 0.2],\n",
       "       [4.9, 3.6, 1.4, 0.1],\n",
       "       [4.4, 3. , 1.3, 0.2],\n",
       "       [5.1, 3.4, 1.5, 0.2],\n",
       "       [5. , 3.5, 1.3, 0.3],\n",
       "       [4.5, 2.3, 1.3, 0.3],\n",
       "       [4.4, 3.2, 1.3, 0.2],\n",
       "       [5. , 3.5, 1.6, 0.6],\n",
       "       [5.1, 3.8, 1.9, 0.4],\n",
       "       [4.8, 3. , 1.4, 0.3],\n",
       "       [5.1, 3.8, 1.6, 0.2],\n",
       "       [4.6, 3.2, 1.4, 0.2],\n",
       "       [5.3, 3.7, 1.5, 0.2],\n",
       "       [5. , 3.3, 1.4, 0.2],\n",
       "       [7. , 3.2, 4.7, 1.4],\n",
       "       [6.4, 3.2, 4.5, 1.5],\n",
       "       [6.9, 3.1, 4.9, 1.5],\n",
       "       [5.5, 2.3, 4. , 1.3],\n",
       "       [6.5, 2.8, 4.6, 1.5],\n",
       "       [5.7, 2.8, 4.5, 1.3],\n",
       "       [6.3, 3.3, 4.7, 1.6],\n",
       "       [4.9, 2.4, 3.3, 1. ],\n",
       "       [6.6, 2.9, 4.6, 1.3],\n",
       "       [5.2, 2.7, 3.9, 1.4],\n",
       "       [5. , 2. , 3.5, 1. ],\n",
       "       [5.9, 3. , 4.2, 1.5],\n",
       "       [6. , 2.2, 4. , 1. ],\n",
       "       [6.1, 2.9, 4.7, 1.4],\n",
       "       [5.6, 2.9, 3.6, 1.3],\n",
       "       [6.7, 3.1, 4.4, 1.4],\n",
       "       [5.6, 3. , 4.5, 1.5],\n",
       "       [5.8, 2.7, 4.1, 1. ],\n",
       "       [6.2, 2.2, 4.5, 1.5],\n",
       "       [5.6, 2.5, 3.9, 1.1],\n",
       "       [5.9, 3.2, 4.8, 1.8],\n",
       "       [6.1, 2.8, 4. , 1.3],\n",
       "       [6.3, 2.5, 4.9, 1.5],\n",
       "       [6.1, 2.8, 4.7, 1.2],\n",
       "       [6.4, 2.9, 4.3, 1.3],\n",
       "       [6.6, 3. , 4.4, 1.4],\n",
       "       [6.8, 2.8, 4.8, 1.4],\n",
       "       [6.7, 3. , 5. , 1.7],\n",
       "       [6. , 2.9, 4.5, 1.5],\n",
       "       [5.7, 2.6, 3.5, 1. ],\n",
       "       [5.5, 2.4, 3.8, 1.1],\n",
       "       [5.5, 2.4, 3.7, 1. ],\n",
       "       [5.8, 2.7, 3.9, 1.2],\n",
       "       [6. , 2.7, 5.1, 1.6],\n",
       "       [5.4, 3. , 4.5, 1.5],\n",
       "       [6. , 3.4, 4.5, 1.6],\n",
       "       [6.7, 3.1, 4.7, 1.5],\n",
       "       [6.3, 2.3, 4.4, 1.3],\n",
       "       [5.6, 3. , 4.1, 1.3],\n",
       "       [5.5, 2.5, 4. , 1.3],\n",
       "       [5.5, 2.6, 4.4, 1.2],\n",
       "       [6.1, 3. , 4.6, 1.4],\n",
       "       [5.8, 2.6, 4. , 1.2],\n",
       "       [5. , 2.3, 3.3, 1. ],\n",
       "       [5.6, 2.7, 4.2, 1.3],\n",
       "       [5.7, 3. , 4.2, 1.2],\n",
       "       [5.7, 2.9, 4.2, 1.3],\n",
       "       [6.2, 2.9, 4.3, 1.3],\n",
       "       [5.1, 2.5, 3. , 1.1],\n",
       "       [5.7, 2.8, 4.1, 1.3],\n",
       "       [6.3, 3.3, 6. , 2.5],\n",
       "       [5.8, 2.7, 5.1, 1.9],\n",
       "       [7.1, 3. , 5.9, 2.1],\n",
       "       [6.3, 2.9, 5.6, 1.8],\n",
       "       [6.5, 3. , 5.8, 2.2],\n",
       "       [7.6, 3. , 6.6, 2.1],\n",
       "       [4.9, 2.5, 4.5, 1.7],\n",
       "       [7.3, 2.9, 6.3, 1.8],\n",
       "       [6.7, 2.5, 5.8, 1.8],\n",
       "       [7.2, 3.6, 6.1, 2.5],\n",
       "       [6.5, 3.2, 5.1, 2. ],\n",
       "       [6.4, 2.7, 5.3, 1.9],\n",
       "       [6.8, 3. , 5.5, 2.1],\n",
       "       [5.7, 2.5, 5. , 2. ],\n",
       "       [5.8, 2.8, 5.1, 2.4],\n",
       "       [6.4, 3.2, 5.3, 2.3],\n",
       "       [6.5, 3. , 5.5, 1.8],\n",
       "       [7.7, 3.8, 6.7, 2.2],\n",
       "       [7.7, 2.6, 6.9, 2.3],\n",
       "       [6. , 2.2, 5. , 1.5],\n",
       "       [6.9, 3.2, 5.7, 2.3],\n",
       "       [5.6, 2.8, 4.9, 2. ],\n",
       "       [7.7, 2.8, 6.7, 2. ],\n",
       "       [6.3, 2.7, 4.9, 1.8],\n",
       "       [6.7, 3.3, 5.7, 2.1],\n",
       "       [7.2, 3.2, 6. , 1.8],\n",
       "       [6.2, 2.8, 4.8, 1.8],\n",
       "       [6.1, 3. , 4.9, 1.8],\n",
       "       [6.4, 2.8, 5.6, 2.1],\n",
       "       [7.2, 3. , 5.8, 1.6],\n",
       "       [7.4, 2.8, 6.1, 1.9],\n",
       "       [7.9, 3.8, 6.4, 2. ],\n",
       "       [6.4, 2.8, 5.6, 2.2],\n",
       "       [6.3, 2.8, 5.1, 1.5],\n",
       "       [6.1, 2.6, 5.6, 1.4],\n",
       "       [7.7, 3. , 6.1, 2.3],\n",
       "       [6.3, 3.4, 5.6, 2.4],\n",
       "       [6.4, 3.1, 5.5, 1.8],\n",
       "       [6. , 3. , 4.8, 1.8],\n",
       "       [6.9, 3.1, 5.4, 2.1],\n",
       "       [6.7, 3.1, 5.6, 2.4],\n",
       "       [6.9, 3.1, 5.1, 2.3],\n",
       "       [5.8, 2.7, 5.1, 1.9],\n",
       "       [6.8, 3.2, 5.9, 2.3],\n",
       "       [6.7, 3.3, 5.7, 2.5],\n",
       "       [6.7, 3. , 5.2, 2.3],\n",
       "       [6.3, 2.5, 5. , 1.9],\n",
       "       [6.5, 3. , 5.2, 2. ],\n",
       "       [6.2, 3.4, 5.4, 2.3],\n",
       "       [5.9, 3. , 5.1, 1.8]])"
      ]
     },
     "execution_count": 4,
     "metadata": {},
     "output_type": "execute_result"
    }
   ],
   "source": [
    "iris.data"
   ]
  },
  {
   "cell_type": "code",
   "execution_count": 5,
   "id": "5a41af59-2880-4afb-8063-0f739ea62955",
   "metadata": {},
   "outputs": [
    {
     "data": {
      "text/plain": [
       "['sepal length (cm)',\n",
       " 'sepal width (cm)',\n",
       " 'petal length (cm)',\n",
       " 'petal width (cm)']"
      ]
     },
     "execution_count": 5,
     "metadata": {},
     "output_type": "execute_result"
    }
   ],
   "source": [
    "iris.feature_names"
   ]
  },
  {
   "cell_type": "code",
   "execution_count": 6,
   "id": "a4f8028c-0dd4-4f14-954e-0e8d6faca28d",
   "metadata": {},
   "outputs": [
    {
     "data": {
      "text/plain": [
       "array([0, 0, 0, 0, 0, 0, 0, 0, 0, 0, 0, 0, 0, 0, 0, 0, 0, 0, 0, 0, 0, 0,\n",
       "       0, 0, 0, 0, 0, 0, 0, 0, 0, 0, 0, 0, 0, 0, 0, 0, 0, 0, 0, 0, 0, 0,\n",
       "       0, 0, 0, 0, 0, 0, 1, 1, 1, 1, 1, 1, 1, 1, 1, 1, 1, 1, 1, 1, 1, 1,\n",
       "       1, 1, 1, 1, 1, 1, 1, 1, 1, 1, 1, 1, 1, 1, 1, 1, 1, 1, 1, 1, 1, 1,\n",
       "       1, 1, 1, 1, 1, 1, 1, 1, 1, 1, 1, 1, 2, 2, 2, 2, 2, 2, 2, 2, 2, 2,\n",
       "       2, 2, 2, 2, 2, 2, 2, 2, 2, 2, 2, 2, 2, 2, 2, 2, 2, 2, 2, 2, 2, 2,\n",
       "       2, 2, 2, 2, 2, 2, 2, 2, 2, 2, 2, 2, 2, 2, 2, 2, 2, 2])"
      ]
     },
     "execution_count": 6,
     "metadata": {},
     "output_type": "execute_result"
    }
   ],
   "source": [
    "iris.target"
   ]
  },
  {
   "cell_type": "code",
   "execution_count": 7,
   "id": "adda045d-35b9-45c6-8617-a46aaf5bd843",
   "metadata": {},
   "outputs": [
    {
     "data": {
      "text/plain": [
       "array(['setosa', 'versicolor', 'virginica'], dtype='<U10')"
      ]
     },
     "execution_count": 7,
     "metadata": {},
     "output_type": "execute_result"
    }
   ],
   "source": [
    "iris.target_names"
   ]
  },
  {
   "cell_type": "code",
   "execution_count": 8,
   "id": "b8c4db59-a0d1-4e5d-a541-4f8eab28b575",
   "metadata": {},
   "outputs": [],
   "source": [
    "X = iris.data[:, 2] # independent variables"
   ]
  },
  {
   "cell_type": "code",
   "execution_count": 9,
   "id": "4cf10d2f-e69a-4990-a000-7441d07d6ef6",
   "metadata": {},
   "outputs": [],
   "source": [
    "y = iris.target # dependent variables"
   ]
  },
  {
   "cell_type": "code",
   "execution_count": 10,
   "id": "20027609-6965-4e45-8a9a-a8b2c6eb2036",
   "metadata": {},
   "outputs": [],
   "source": [
    "# import cross validation which has been replaced with model selection\n",
    "from sklearn.model_selection import train_test_split"
   ]
  },
  {
   "cell_type": "code",
   "execution_count": 11,
   "id": "f8f70747-5227-4c0f-876d-4bd33a5accc2",
   "metadata": {},
   "outputs": [],
   "source": [
    "# Split the data into training and test subset\n",
    "X_train, X_test, y_train, y_test = train_test_split(X, y, test_size = 0.20, random_state = 4)"
   ]
  },
  {
   "cell_type": "code",
   "execution_count": 12,
   "id": "3996c25a-d000-474d-9786-53f7e4cc0153",
   "metadata": {},
   "outputs": [],
   "source": [
    "# Covert all the arrays into one-dimension\n",
    "X_train_mod = X_train.reshape(-1, 1)"
   ]
  },
  {
   "cell_type": "code",
   "execution_count": 13,
   "id": "edd33c0f-232e-47df-b640-f638e488ceba",
   "metadata": {},
   "outputs": [],
   "source": [
    "X_test_mod = X_test.reshape(-1, 1)"
   ]
  },
  {
   "cell_type": "code",
   "execution_count": 14,
   "id": "63eeb9b5-9635-43b1-90eb-ace534f959eb",
   "metadata": {},
   "outputs": [],
   "source": [
    "y_train_mod = y_train.reshape(-1, 1)"
   ]
  },
  {
   "cell_type": "code",
   "execution_count": 15,
   "id": "b9d23641-3402-4cf9-9d65-7cf163287127",
   "metadata": {},
   "outputs": [],
   "source": [
    "y_test_mod = y_test.reshape(-1, 1)"
   ]
  },
  {
   "cell_type": "code",
   "execution_count": 16,
   "id": "0651998a-c67a-43d1-8e25-ddfedd556306",
   "metadata": {},
   "outputs": [],
   "source": [
    "model = svm.SVC(kernel = 'linear')\n",
    "# kernel adds a new feature          "
   ]
  },
  {
   "cell_type": "code",
   "execution_count": 17,
   "id": "6f058525-d3af-488c-9a9a-928878f41bbc",
   "metadata": {},
   "outputs": [
    {
     "name": "stderr",
     "output_type": "stream",
     "text": [
      "C:\\Users\\user\\anaconda3\\lib\\site-packages\\sklearn\\utils\\validation.py:993: DataConversionWarning: A column-vector y was passed when a 1d array was expected. Please change the shape of y to (n_samples, ), for example using ravel().\n",
      "  y = column_or_1d(y, warn=True)\n"
     ]
    },
    {
     "data": {
      "text/plain": [
       "SVC(kernel='linear')"
      ]
     },
     "execution_count": 17,
     "metadata": {},
     "output_type": "execute_result"
    }
   ],
   "source": [
    "model.fit(X_train_mod, y_train_mod)"
   ]
  },
  {
   "cell_type": "code",
   "execution_count": 18,
   "id": "837a9787-6081-484c-b6c0-384643935ac0",
   "metadata": {},
   "outputs": [],
   "source": [
    "y_pred_mod = model.predict(X_test_mod)"
   ]
  },
  {
   "cell_type": "code",
   "execution_count": 19,
   "id": "2794d569-2732-45b7-9ea0-db5e4a5b3fbd",
   "metadata": {},
   "outputs": [],
   "source": [
    "from sklearn.metrics import accuracy_score"
   ]
  },
  {
   "cell_type": "code",
   "execution_count": 20,
   "id": "313382b1-8f81-4b28-9e56-3457734d9993",
   "metadata": {},
   "outputs": [
    {
     "name": "stdout",
     "output_type": "stream",
     "text": [
      "0.9666666666666667\n"
     ]
    }
   ],
   "source": [
    "# Check the accuracy\n",
    "print(accuracy_score(y_test_mod, y_pred_mod))"
   ]
  },
  {
   "cell_type": "markdown",
   "id": "26275b36-9393-42e7-a96e-33d2688aca16",
   "metadata": {},
   "source": [
    "#### K-Nearest Neighbors(KNN)"
   ]
  },
  {
   "cell_type": "code",
   "execution_count": 21,
   "id": "e60fb65b-7baa-42e5-aa71-819cb1600a96",
   "metadata": {},
   "outputs": [],
   "source": [
    "from sklearn.datasets import load_iris\n",
    "iris = load_iris()"
   ]
  },
  {
   "cell_type": "code",
   "execution_count": 22,
   "id": "d4155f91-b13f-42a1-a889-468bcadf02c1",
   "metadata": {},
   "outputs": [],
   "source": [
    "X = iris.data\n",
    "y = iris.target"
   ]
  },
  {
   "cell_type": "code",
   "execution_count": 23,
   "id": "9aee4cf1-6363-4d63-a168-d9961a0fbb15",
   "metadata": {},
   "outputs": [
    {
     "data": {
      "text/plain": [
       "(150, 4)"
      ]
     },
     "execution_count": 23,
     "metadata": {},
     "output_type": "execute_result"
    }
   ],
   "source": [
    "X.shape"
   ]
  },
  {
   "cell_type": "code",
   "execution_count": 24,
   "id": "22a35725-6369-4fce-93c8-5af6726be2cb",
   "metadata": {},
   "outputs": [
    {
     "data": {
      "text/plain": [
       "(150,)"
      ]
     },
     "execution_count": 24,
     "metadata": {},
     "output_type": "execute_result"
    }
   ],
   "source": [
    "y.shape"
   ]
  },
  {
   "cell_type": "code",
   "execution_count": 25,
   "id": "d4fe5a15-7cec-45a1-9804-e6174aea038b",
   "metadata": {},
   "outputs": [],
   "source": [
    "from sklearn.neighbors import KNeighborsClassifier"
   ]
  },
  {
   "cell_type": "code",
   "execution_count": 26,
   "id": "fb577229-72bd-486c-81de-4767117e9fcd",
   "metadata": {},
   "outputs": [
    {
     "data": {
      "text/plain": [
       "KNeighborsClassifier(n_neighbors=1)"
      ]
     },
     "execution_count": 26,
     "metadata": {},
     "output_type": "execute_result"
    }
   ],
   "source": [
    "knn = KNeighborsClassifier(n_neighbors = 1)\n",
    "knn"
   ]
  },
  {
   "cell_type": "code",
   "execution_count": 27,
   "id": "ea4450a2-95d8-44fd-afa3-1c2bf0311acc",
   "metadata": {},
   "outputs": [
    {
     "data": {
      "text/plain": [
       "KNeighborsClassifier(n_neighbors=1)"
      ]
     },
     "execution_count": 27,
     "metadata": {},
     "output_type": "execute_result"
    }
   ],
   "source": [
    "knn.fit(X, y)"
   ]
  },
  {
   "cell_type": "code",
   "execution_count": 28,
   "id": "b591beda-e00d-4a53-a725-827f125853fe",
   "metadata": {},
   "outputs": [
    {
     "data": {
      "text/plain": [
       "(4,)"
      ]
     },
     "execution_count": 28,
     "metadata": {},
     "output_type": "execute_result"
    }
   ],
   "source": [
    "import numpy as np\n",
    "a = np.array([4, 5, 6, 2])\n",
    "a.shape"
   ]
  },
  {
   "cell_type": "code",
   "execution_count": 29,
   "id": "e4b44480-53e0-4499-8393-e33684a1fa89",
   "metadata": {},
   "outputs": [
    {
     "name": "stderr",
     "output_type": "stream",
     "text": [
      "C:\\Users\\user\\anaconda3\\lib\\site-packages\\sklearn\\neighbors\\_classification.py:228: FutureWarning: Unlike other reduction functions (e.g. `skew`, `kurtosis`), the default behavior of `mode` typically preserves the axis it acts along. In SciPy 1.11.0, this behavior will change: the default value of `keepdims` will become False, the `axis` over which the statistic is taken will be eliminated, and the value None will no longer be accepted. Set `keepdims` to True or False to avoid this warning.\n",
      "  mode, _ = stats.mode(_y[neigh_ind, k], axis=1)\n"
     ]
    },
    {
     "data": {
      "text/plain": [
       "array([2])"
      ]
     },
     "execution_count": 29,
     "metadata": {},
     "output_type": "execute_result"
    }
   ],
   "source": [
    "knn.predict([a])"
   ]
  },
  {
   "cell_type": "code",
   "execution_count": 30,
   "id": "8706eafe-e392-4c9c-a886-badaa0b84832",
   "metadata": {},
   "outputs": [],
   "source": [
    "# Implement Logistic regression on the same dataset\n",
    "from sklearn.linear_model import LogisticRegression"
   ]
  },
  {
   "cell_type": "code",
   "execution_count": 31,
   "id": "c1caeb3d-f6bb-401a-b699-bec0bb6576b7",
   "metadata": {},
   "outputs": [
    {
     "name": "stderr",
     "output_type": "stream",
     "text": [
      "C:\\Users\\user\\anaconda3\\lib\\site-packages\\sklearn\\linear_model\\_logistic.py:814: ConvergenceWarning: lbfgs failed to converge (status=1):\n",
      "STOP: TOTAL NO. of ITERATIONS REACHED LIMIT.\n",
      "\n",
      "Increase the number of iterations (max_iter) or scale the data as shown in:\n",
      "    https://scikit-learn.org/stable/modules/preprocessing.html\n",
      "Please also refer to the documentation for alternative solver options:\n",
      "    https://scikit-learn.org/stable/modules/linear_model.html#logistic-regression\n",
      "  n_iter_i = _check_optimize_result(\n"
     ]
    },
    {
     "data": {
      "text/plain": [
       "LogisticRegression()"
      ]
     },
     "execution_count": 31,
     "metadata": {},
     "output_type": "execute_result"
    }
   ],
   "source": [
    "logreg = LogisticRegression()\n",
    "logreg.fit(X,y\n",
    "          )"
   ]
  },
  {
   "cell_type": "code",
   "execution_count": 32,
   "id": "51e66f70-cb2d-406a-b94d-438220ccfa28",
   "metadata": {},
   "outputs": [
    {
     "data": {
      "text/plain": [
       "array([2])"
      ]
     },
     "execution_count": 32,
     "metadata": {},
     "output_type": "execute_result"
    }
   ],
   "source": [
    "logreg.predict([a])"
   ]
  },
  {
   "cell_type": "markdown",
   "id": "ee9e8d0e-3ae2-4587-819d-8a90cfb4851d",
   "metadata": {},
   "source": [
    "The 2 refers to iris virginica"
   ]
  },
  {
   "cell_type": "markdown",
   "id": "e20ed19d-1747-4d8a-8619-9bf36c557b69",
   "metadata": {},
   "source": [
    "#### Scikit Learn\n",
    "\n",
    "##### Pre Requisites for Machine Learning(ML)\n",
    "\n",
    "##### Basic skills required\n",
    "1. Understanding ML with a use case\n",
    "    - Checkout programming knowledge intro to ML video\n",
    "    - Read multiple blogs explaining ML online\n",
    "2. Basic Python Programming Skills\n",
    "    - Checkout programming knowledge intro to ML video\n",
    "    - Followpython tutorials/blogposts online\n",
    "3. Basic Mathematical skills\n",
    "    - Linear Algebra basics\n",
    "    - Probability basics\n",
    "\n",
    "##### Academic Machine Learning\n",
    "Producing novel research, Building ML tools from scratch, Understanding underlying concepts etc.\n",
    "1. Strong Mathematical Fundamentals\n",
    "    - Algebra: Linear algebra, logarithms, matrices and matrix multiplication, etc\n",
    "    - Calculus: Concept of derivative, Gradients, Chain rule, etc.\n",
    "    - Statistics: Mean, median, mode, outliers, ability to read hitogram, Conditional probability, etc.\n",
    "2. Intermediate Python Programming: List comprehensions, lambda functions, third party libraries, etc.\n",
    "3. Strong Computer Science Fundamentals: Data structures and Algorithms, etc.\n",
    "\n",
    "##### Industial Machine Learning\n",
    "Creating products, business value and apllying existing, \"off the shell\" tools to solve business problems.\n",
    "1. Intermediate/Advance Python Programming: List comprehensions, lambda functions, third party libraries, etc.\n",
    "2. Strong Computer Science Fundamentals: Data structures and algorithms, etc.\n",
    "3. Data Analysis: Proficiency with frameworks and tool such as pandas, matplotlib, seaborn, etc.\n",
    "4. Linux Skills: Working on the command line.\n",
    "\n",
    "##### Resources\n",
    "1. Maths\n",
    "    - Linear Algebra\n",
    "    - Probability and statistics\n",
    "    - Calculus\n",
    "2. Computer Science Fundamentals: Algorithms\n",
    "3. Data Analysis\n",
    "\n",
    "#### Linear Regression\n",
    "Overview\n",
    "- It is one of the most basic ML algorithm.\n",
    "- It is a common process used in many applications of statistics in the real world.\n",
    "\n",
    "##### What is Linear Regression?\n",
    "Linear regression is used for finding linear relationship between target and one or more predictors. The idea behind linear regression is to fit the observations of two variables into the linear relationships between them. \n",
    "There are two types of linear regression - Simple and Multiple.\n",
    "\n",
    "The task is draw the line that is best fitting or closest to point with the xy cordinates and observations of the two variables expect to depend linearly on each other. In simple terms, given two variables X & Y, the model can predict the values of Y given the future values of X.\n",
    "\n",
    "The line can be modelled based on the linear equation shown below:\n",
    "\n",
    "y = a_0 + a_1 * X\n",
    "\n",
    "##### Cost Function (Mean Square Error)\n",
    "The cost function helps us to figure out the best possible values for a_0 and a_1 which would provide the best fit line for the data points. This is also known as the mean square error.\n",
    "\n",
    "##### Gradient Descent\n",
    "Gradient descent is a method of updating a_0 and a_1 to reduce the cost function(mean square error). The idea is that, we start with a_0 and a_1 and then we change the values itiratively to reduce the cost. The gradient descent tells us how to change the values.\n",
    "\n",
    "##### Implementation\n",
    "We have two choices, we can either use the scikit learn library to import the linear regression model and use it directly or we can write our own regression model based on the equations above."
   ]
  },
  {
   "cell_type": "markdown",
   "id": "177a98f8-fa4f-4583-aa87-8aec33b7fb54",
   "metadata": {},
   "source": [
    "#### Linear Regression Using Scikit Learn"
   ]
  },
  {
   "cell_type": "code",
   "execution_count": 33,
   "id": "54c6a516-05d3-4475-9066-cb4a6d585576",
   "metadata": {},
   "outputs": [],
   "source": [
    "# Import all dependencies\n",
    "import pandas as pd\n",
    "import matplotlib.pyplot as plt\n",
    "from sklearn.linear_model import LinearRegression"
   ]
  },
  {
   "cell_type": "code",
   "execution_count": 34,
   "id": "0bbfec6d-6412-4fc8-bc67-4c7fbb46b20c",
   "metadata": {},
   "outputs": [],
   "source": [
    "# Read the data\n",
    "data = pd.read_csv('C:\\\\Users\\\\user\\\\Documents\\\\Data Science Files\\\\Jupyter notebooks for Data Science\\\\Advertising.csv')"
   ]
  },
  {
   "cell_type": "code",
   "execution_count": 35,
   "id": "761e6e56-3ae8-4afa-83f2-ed4fde91ed8d",
   "metadata": {},
   "outputs": [
    {
     "data": {
      "text/html": [
       "<div>\n",
       "<style scoped>\n",
       "    .dataframe tbody tr th:only-of-type {\n",
       "        vertical-align: middle;\n",
       "    }\n",
       "\n",
       "    .dataframe tbody tr th {\n",
       "        vertical-align: top;\n",
       "    }\n",
       "\n",
       "    .dataframe thead th {\n",
       "        text-align: right;\n",
       "    }\n",
       "</style>\n",
       "<table border=\"1\" class=\"dataframe\">\n",
       "  <thead>\n",
       "    <tr style=\"text-align: right;\">\n",
       "      <th></th>\n",
       "      <th>Unnamed: 0</th>\n",
       "      <th>TV</th>\n",
       "      <th>Radio</th>\n",
       "      <th>Newspaper</th>\n",
       "      <th>Sales</th>\n",
       "    </tr>\n",
       "  </thead>\n",
       "  <tbody>\n",
       "    <tr>\n",
       "      <th>0</th>\n",
       "      <td>1</td>\n",
       "      <td>230.1</td>\n",
       "      <td>37.8</td>\n",
       "      <td>69.2</td>\n",
       "      <td>22.1</td>\n",
       "    </tr>\n",
       "    <tr>\n",
       "      <th>1</th>\n",
       "      <td>2</td>\n",
       "      <td>44.5</td>\n",
       "      <td>39.3</td>\n",
       "      <td>45.1</td>\n",
       "      <td>10.4</td>\n",
       "    </tr>\n",
       "    <tr>\n",
       "      <th>2</th>\n",
       "      <td>3</td>\n",
       "      <td>17.2</td>\n",
       "      <td>45.9</td>\n",
       "      <td>69.3</td>\n",
       "      <td>9.3</td>\n",
       "    </tr>\n",
       "    <tr>\n",
       "      <th>3</th>\n",
       "      <td>4</td>\n",
       "      <td>151.5</td>\n",
       "      <td>41.3</td>\n",
       "      <td>58.5</td>\n",
       "      <td>18.5</td>\n",
       "    </tr>\n",
       "    <tr>\n",
       "      <th>4</th>\n",
       "      <td>5</td>\n",
       "      <td>180.8</td>\n",
       "      <td>10.8</td>\n",
       "      <td>58.4</td>\n",
       "      <td>12.9</td>\n",
       "    </tr>\n",
       "  </tbody>\n",
       "</table>\n",
       "</div>"
      ],
      "text/plain": [
       "   Unnamed: 0     TV  Radio  Newspaper  Sales\n",
       "0           1  230.1   37.8       69.2   22.1\n",
       "1           2   44.5   39.3       45.1   10.4\n",
       "2           3   17.2   45.9       69.3    9.3\n",
       "3           4  151.5   41.3       58.5   18.5\n",
       "4           5  180.8   10.8       58.4   12.9"
      ]
     },
     "execution_count": 35,
     "metadata": {},
     "output_type": "execute_result"
    }
   ],
   "source": [
    "# Look at the data\n",
    "data.head()"
   ]
  },
  {
   "cell_type": "code",
   "execution_count": 36,
   "id": "9c5fb4ea-1caa-4854-9e0f-54053da0b7d9",
   "metadata": {},
   "outputs": [
    {
     "data": {
      "text/html": [
       "<div>\n",
       "<style scoped>\n",
       "    .dataframe tbody tr th:only-of-type {\n",
       "        vertical-align: middle;\n",
       "    }\n",
       "\n",
       "    .dataframe tbody tr th {\n",
       "        vertical-align: top;\n",
       "    }\n",
       "\n",
       "    .dataframe thead th {\n",
       "        text-align: right;\n",
       "    }\n",
       "</style>\n",
       "<table border=\"1\" class=\"dataframe\">\n",
       "  <thead>\n",
       "    <tr style=\"text-align: right;\">\n",
       "      <th></th>\n",
       "      <th>TV</th>\n",
       "      <th>Radio</th>\n",
       "      <th>Newspaper</th>\n",
       "      <th>Sales</th>\n",
       "    </tr>\n",
       "  </thead>\n",
       "  <tbody>\n",
       "    <tr>\n",
       "      <th>0</th>\n",
       "      <td>230.1</td>\n",
       "      <td>37.8</td>\n",
       "      <td>69.2</td>\n",
       "      <td>22.1</td>\n",
       "    </tr>\n",
       "    <tr>\n",
       "      <th>1</th>\n",
       "      <td>44.5</td>\n",
       "      <td>39.3</td>\n",
       "      <td>45.1</td>\n",
       "      <td>10.4</td>\n",
       "    </tr>\n",
       "    <tr>\n",
       "      <th>2</th>\n",
       "      <td>17.2</td>\n",
       "      <td>45.9</td>\n",
       "      <td>69.3</td>\n",
       "      <td>9.3</td>\n",
       "    </tr>\n",
       "    <tr>\n",
       "      <th>3</th>\n",
       "      <td>151.5</td>\n",
       "      <td>41.3</td>\n",
       "      <td>58.5</td>\n",
       "      <td>18.5</td>\n",
       "    </tr>\n",
       "    <tr>\n",
       "      <th>4</th>\n",
       "      <td>180.8</td>\n",
       "      <td>10.8</td>\n",
       "      <td>58.4</td>\n",
       "      <td>12.9</td>\n",
       "    </tr>\n",
       "    <tr>\n",
       "      <th>...</th>\n",
       "      <td>...</td>\n",
       "      <td>...</td>\n",
       "      <td>...</td>\n",
       "      <td>...</td>\n",
       "    </tr>\n",
       "    <tr>\n",
       "      <th>195</th>\n",
       "      <td>38.2</td>\n",
       "      <td>3.7</td>\n",
       "      <td>13.8</td>\n",
       "      <td>7.6</td>\n",
       "    </tr>\n",
       "    <tr>\n",
       "      <th>196</th>\n",
       "      <td>94.2</td>\n",
       "      <td>4.9</td>\n",
       "      <td>8.1</td>\n",
       "      <td>9.7</td>\n",
       "    </tr>\n",
       "    <tr>\n",
       "      <th>197</th>\n",
       "      <td>177.0</td>\n",
       "      <td>9.3</td>\n",
       "      <td>6.4</td>\n",
       "      <td>12.8</td>\n",
       "    </tr>\n",
       "    <tr>\n",
       "      <th>198</th>\n",
       "      <td>283.6</td>\n",
       "      <td>42.0</td>\n",
       "      <td>66.2</td>\n",
       "      <td>25.5</td>\n",
       "    </tr>\n",
       "    <tr>\n",
       "      <th>199</th>\n",
       "      <td>232.1</td>\n",
       "      <td>8.6</td>\n",
       "      <td>8.7</td>\n",
       "      <td>13.4</td>\n",
       "    </tr>\n",
       "  </tbody>\n",
       "</table>\n",
       "<p>200 rows × 4 columns</p>\n",
       "</div>"
      ],
      "text/plain": [
       "        TV  Radio  Newspaper  Sales\n",
       "0    230.1   37.8       69.2   22.1\n",
       "1     44.5   39.3       45.1   10.4\n",
       "2     17.2   45.9       69.3    9.3\n",
       "3    151.5   41.3       58.5   18.5\n",
       "4    180.8   10.8       58.4   12.9\n",
       "..     ...    ...        ...    ...\n",
       "195   38.2    3.7       13.8    7.6\n",
       "196   94.2    4.9        8.1    9.7\n",
       "197  177.0    9.3        6.4   12.8\n",
       "198  283.6   42.0       66.2   25.5\n",
       "199  232.1    8.6        8.7   13.4\n",
       "\n",
       "[200 rows x 4 columns]"
      ]
     },
     "execution_count": 36,
     "metadata": {},
     "output_type": "execute_result"
    }
   ],
   "source": [
    "# Remove redundant columns\n",
    "data.drop(['Unnamed: 0'], axis = 1)"
   ]
  },
  {
   "cell_type": "code",
   "execution_count": 37,
   "id": "7779c5ba-ed11-46aa-a75e-8db9268b1f89",
   "metadata": {},
   "outputs": [
    {
     "data": {
      "text/plain": [
       "<matplotlib.collections.PathCollection at 0x1e0de549580>"
      ]
     },
     "execution_count": 37,
     "metadata": {},
     "output_type": "execute_result"
    },
    {
     "data": {
      "image/png": "[encoded data removed]",
      "text/plain": [
       "<Figure size 1600x800 with 1 Axes>"
      ]
     },
     "metadata": {},
     "output_type": "display_data"
    }
   ],
   "source": [
    "# Visualize the data (TV Ads and Sales)\n",
    "plt.figure(figsize = (16, 8))\n",
    "plt.scatter(data['TV'], data['Sales'], c = 'black')"
   ]
  },
  {
   "cell_type": "code",
   "execution_count": 38,
   "id": "48192752-b390-4b2b-89c0-b0dfd300b220",
   "metadata": {},
   "outputs": [
    {
     "data": {
      "text/plain": [
       "LinearRegression()"
      ]
     },
     "execution_count": 38,
     "metadata": {},
     "output_type": "execute_result"
    }
   ],
   "source": [
    "# Generate Linear Approximation of this data\n",
    "# Convert the values into vectors and then store them into two variables\n",
    "\n",
    "X = data['TV'].values.reshape(-1, 1) # reshape converts into vector\n",
    "Y = data['Sales'].values.reshape(-1, 1)\n",
    "\n",
    "# use the fit function to fit the line on the X and Y values\n",
    "reg = LinearRegression()\n",
    "reg.fit(X, Y)"
   ]
  },
  {
   "cell_type": "code",
   "execution_count": 39,
   "id": "205e9030-ae39-4c06-9d33-0965cbd98282",
   "metadata": {},
   "outputs": [
    {
     "data": {
      "image/png": "[encoded data removed]",
      "text/plain": [
       "<Figure size 1600x800 with 1 Axes>"
      ]
     },
     "metadata": {},
     "output_type": "display_data"
    }
   ],
   "source": [
    "# Visualise the best fit line\n",
    "predictions = reg.predict(X)\n",
    "plt.figure(figsize = (16, 8))\n",
    "plt.scatter(\n",
    "    data['TV'],\n",
    "    data['Sales'],\n",
    "    c = 'black'\n",
    ")\n",
    "plt.plot(\n",
    "    data['TV'],\n",
    "    predictions,\n",
    "    c = 'blue',\n",
    "    linewidth = 2\n",
    ")\n",
    "plt.xlabel('Money spent on TV ads ($)')\n",
    "plt.ylabel('Sales ($)')\n",
    "plt.show()"
   ]
  },
  {
   "cell_type": "markdown",
   "id": "225e17da-1fca-4771-b563-c5395fe6333d",
   "metadata": {
    "tags": []
   },
   "source": [
    "#### Logistic Regression\n",
    "Overview\n",
    "- Classification techniques are an essential part of machine learning and data mining applications. It is a useful method for solving the binary classification problem.\n",
    "- Used for various classification problems such as spam detection, Diabetes prediction, forecaste a movie purchase, etc.\n",
    "\n",
    "#### What is Logistic Regression?\n",
    "Logistic Regression is one of the most simple and commonly used Machine Learning algorithms for two-class classification. It is a statistical method to predict binary classes. It is a special case of linear regression where the target variable is categorical in nature. \n",
    "\n",
    "#### Why is it called Logistic \"Regression\"?\n",
    "Contrary to popular belief, logistic regression IS a regression model.\n",
    "\n",
    "Just like Linear regression assumes that the data follows a linear function, Logistic regression models the data using the sigmoid function. Linear regression gives a continuous output while logistic regression gives a discrete output.\n",
    "\n",
    "It has many applications in businesses. One of which is the pricing optimization.\n",
    "\n",
    "##### Sigmoid Function\n",
    "The sigmoid function, also called logistic function gives an 'S' shaped curve that can take any real-valued number and map it into a value between 0 and 1.\n",
    "\n",
    "If the curve goes to positive infinity, y predicted will be one, but it goes to negative infinity, y predicted will become 0. If the output of the sigmoid function is more than 0.5, the outcome can be classified as Yes or 1, and if it is less that 0.5, we can classify it as zero or a No.\n",
    "\n",
    "##### Cost Function\n",
    "The cost function used in linear regression won't work here. If you try to use the linear regression cost function in a logistic regression problem, you would end up with a non-convex function: a weirdly-shaped graph with no easy to find minimum global point.\n",
    "\n",
    "##### Gradient Descent\n",
    "Gradient Descent is a method of updating hyperparameters(beta) to reduce the cost function.\n",
    "\n",
    "###### Implementation\n",
    "We have two choices, we can either use the scikit learn library to import the logistic regression model and use it directly or we can write our own model based on the equation."
   ]
  },
  {
   "cell_type": "code",
   "execution_count": 40,
   "id": "e5420884-0fbf-445c-beeb-5ee237524ac4",
   "metadata": {},
   "outputs": [],
   "source": [
    "# Import all the dependencies\n",
    "import matplotlib.pyplot as plt\n",
    "import numpy as np\n",
    "from sklearn.linear_model import LogisticRegression"
   ]
  },
  {
   "cell_type": "code",
   "execution_count": 41,
   "id": "057af015-a9d3-448e-99ac-01d82a4d033c",
   "metadata": {},
   "outputs": [],
   "source": [
    "# Define dataset\n",
    "x = np.array([100, 120, 150, 170, 200, 200, 202, 203, 205, 210, 215, 250, 270, 300, 305, 310])\n",
    "y = np.array([1, 1, 1, 1, 1, 1, 1, 0, 1, 0, 0, 0, 0, 0, 0, 0])"
   ]
  },
  {
   "cell_type": "code",
   "execution_count": 42,
   "id": "1ead08f6-405e-4706-b165-2d253ed328b9",
   "metadata": {},
   "outputs": [
    {
     "data": {
      "text/plain": [
       "Text(0, 0.5, 'Status (1: Won, 0: Lost)')"
      ]
     },
     "execution_count": 42,
     "metadata": {},
     "output_type": "execute_result"
    },
    {
     "data": {
      "image/png": "[encoded data removed]",
      "text/plain": [
       "<Figure size 640x480 with 1 Axes>"
      ]
     },
     "metadata": {},
     "output_type": "display_data"
    }
   ],
   "source": [
    "# Plot the data\n",
    "plt.scatter(x, y)\n",
    "plt.title('Pricing Bids')\n",
    "plt.xlabel('Price')\n",
    "plt.ylabel('Status (1: Won, 0: Lost)')"
   ]
  },
  {
   "cell_type": "code",
   "execution_count": 43,
   "id": "b00ccd67-0551-4ce0-aa41-158e78b20544",
   "metadata": {},
   "outputs": [
    {
     "data": {
      "text/plain": [
       "LogisticRegression(multi_class='ovr')"
      ]
     },
     "execution_count": 43,
     "metadata": {},
     "output_type": "execute_result"
    }
   ],
   "source": [
    "# Initialise and run the model\n",
    "logreg = LogisticRegression(C = 1.0, solver = 'lbfgs', multi_class = 'ovr')\n",
    "X = x.reshape(-1, 1)\n",
    "logreg.fit(X, y)"
   ]
  },
  {
   "cell_type": "code",
   "execution_count": 44,
   "id": "e960524a-56e4-4bbc-9046-9c8f6ce94f7a",
   "metadata": {},
   "outputs": [
    {
     "name": "stdout",
     "output_type": "stream",
     "text": [
      "[1]\n"
     ]
    }
   ],
   "source": [
    "# Predict values if price is 110\n",
    "print(logreg.predict([[110]]))"
   ]
  },
  {
   "cell_type": "code",
   "execution_count": 45,
   "id": "baa38cd1-8c8f-47b4-89ed-0a1e9dc6af5b",
   "metadata": {},
   "outputs": [
    {
     "name": "stdout",
     "output_type": "stream",
     "text": [
      "[0]\n"
     ]
    }
   ],
   "source": [
    "# Predict values if price is 275\n",
    "print(logreg.predict([[275]]))"
   ]
  },
  {
   "cell_type": "markdown",
   "id": "fb8996cd-59c1-4ff9-977c-3e682c5d80b4",
   "metadata": {},
   "source": [
    "#### Support Vector Machines(SVMs)\n",
    "Overview\n",
    "- Support Vector Machine(SVM) is a supervised machine learning algorithm which can be used for classification challenges.\n",
    "- In addition to performing linear classification, SVMs can efficiently perform a non-linear classification.\n",
    "\n",
    "#### What are Support Vector Machines(SVMs)\n",
    "A Support Vector Machine(SVM) is a discriminative classifier formally defined by a separating hyperplane. In other words, given labelled training data (supervised learning), the algorithm outputs an optimal hyperplane which categorizes new examples.\n",
    "\n",
    "##### Layman Terms\n",
    "An SVM model is a representation of the examples as points in space, mapped so that the examples of the separate categories are divided by a clear gap that is aa wide as possible.\n",
    "\n",
    "- 1D Data - Support Vector Classifier is a point.\n",
    "- 2D Data - Support Vector Classifier is a line.\n",
    "- 3D Data - Support Vector Classifier is a plane.\n",
    "- 4D Data or more - Support Vector Classifier is a hyperplane.\n",
    "\n",
    "##### Hyperplane\n",
    "A hyperplane in an n-dimensional Euclidean space is a flat n-1 dimensional subset of that space that divides the space into two disconnected parts.\n",
    "\n",
    "##### Kernels\n",
    "It is not possible to find a hyperplane or a linear decision boundary for some classification problems. If we project the data in to a higher dimension from the original space, we may get a hyperplane in the projected dimension that helps to classify the data.\n",
    "\n",
    "Kernel helps to find a hyperplane in a higher dimension space without increasing the computation cost much.\n",
    "\n",
    "##### How a SVM Model learns\n",
    "The SVM model needs to be solved using an optimization procedure. You can use a numerical optimization procedure to search for the coefficients of the hyperplane.\n",
    "\n",
    "##### Implementation\n",
    "We have two choices, we can either use the scikit learn library to import the SVM model and use it directly or we can write our own model from scratch."
   ]
  },
  {
   "cell_type": "code",
   "execution_count": 46,
   "id": "797382e8-1d67-468d-8bc7-b166dffa7dd0",
   "metadata": {},
   "outputs": [],
   "source": [
    "# Import all the dependencies\n",
    "import pandas as pd\n",
    "import numpy as np\n",
    "import matplotlib.pyplot as plt\n",
    "from sklearn.model_selection import train_test_split\n",
    "from sklearn.svm import SVC\n",
    "from sklearn.metrics import classification_report"
   ]
  },
  {
   "cell_type": "code",
   "execution_count": 47,
   "id": "3e7f087a-54d2-4012-8610-9cb7d43d6b78",
   "metadata": {},
   "outputs": [],
   "source": [
    "# Import the dataset\n",
    "bankdata = pd.read_csv('C:\\\\Users\\\\user\\\\Documents\\\\Data Science Files\\\\Jupyter notebooks for Data Science\\\\bill_authentication.csv')"
   ]
  },
  {
   "cell_type": "code",
   "execution_count": 48,
   "id": "77aa248f-d3f4-4d10-8265-c84e353730ca",
   "metadata": {},
   "outputs": [
    {
     "data": {
      "text/plain": [
       "<bound method NDFrame.head of       Variance  Skewness  Curtosis  Entropy  Class\n",
       "0      3.62160   8.66610   -2.8073 -0.44699      0\n",
       "1      4.54590   8.16740   -2.4586 -1.46210      0\n",
       "2      3.86600  -2.63830    1.9242  0.10645      0\n",
       "3      3.45660   9.52280   -4.0112 -3.59440      0\n",
       "4      0.32924  -4.45520    4.5718 -0.98880      0\n",
       "...        ...       ...       ...      ...    ...\n",
       "1367   0.40614   1.34920   -1.4501 -0.55949      1\n",
       "1368  -1.38870  -4.87730    6.4774  0.34179      1\n",
       "1369  -3.75030 -13.45860   17.5932 -2.77710      1\n",
       "1370  -3.56370  -8.38270   12.3930 -1.28230      1\n",
       "1371  -2.54190  -0.65804    2.6842  1.19520      1\n",
       "\n",
       "[1372 rows x 5 columns]>"
      ]
     },
     "execution_count": 48,
     "metadata": {},
     "output_type": "execute_result"
    }
   ],
   "source": [
    "# Exploratory Data Analysis\n",
    "bankdata.shape\n",
    "bankdata.head"
   ]
  },
  {
   "cell_type": "code",
   "execution_count": 49,
   "id": "c83dda82-93cd-4680-8629-71fa1868c81c",
   "metadata": {},
   "outputs": [],
   "source": [
    "# Data Preprocessing. This involves two steps: \n",
    "# 1. # 1. dividing the data into atributes and labels\n",
    "# 2. dividing the data into training and test sets \n",
    "\n",
    "# To divide the data into atributes and labels\n",
    "X = bankdata.drop('Class', axis = 1)\n",
    "y = bankdata['Class']\n",
    "\n",
    "# To divide the data into training and test sets \n",
    "X_train, X_test, y_train, y_test = train_test_split(X, y, test_size = 0.20)"
   ]
  },
  {
   "cell_type": "code",
   "execution_count": 50,
   "id": "171dd82e-4528-4373-a0af-c79584806bc3",
   "metadata": {},
   "outputs": [
    {
     "data": {
      "text/plain": [
       "SVC(kernel='linear')"
      ]
     },
     "execution_count": 50,
     "metadata": {},
     "output_type": "execute_result"
    }
   ],
   "source": [
    "# Training the algorithm\n",
    "svclassifier = SVC(kernel = 'linear')\n",
    "svclassifier.fit(X_train, y_train)"
   ]
  },
  {
   "cell_type": "code",
   "execution_count": 51,
   "id": "86294623-b3e4-4c48-b41c-330f6bd7646a",
   "metadata": {},
   "outputs": [
    {
     "name": "stdout",
     "output_type": "stream",
     "text": [
      "[0 0 0 0 0 0 0 0 1 1 0 1 0 0 0 0 1 0 0 0 0 1 0 0 1 1 0 1 0 0 1 1 0 0 0 1 1\n",
      " 1 0 1 1 0 1 1 0 0 1 0 0 0 0 0 1 0 0 0 0 1 1 0 0 0 1 1 1 0 0 1 1 0 1 0 0 1\n",
      " 0 0 0 0 0 1 0 1 1 0 1 1 0 0 1 1 1 0 1 0 0 0 1 0 1 1 0 0 1 1 1 1 1 0 1 0 1\n",
      " 0 0 0 0 1 1 0 0 0 0 1 0 0 0 0 0 1 1 0 1 1 0 1 1 1 0 1 1 1 0 0 1 1 0 0 1 1\n",
      " 0 0 0 0 0 0 1 0 0 1 0 1 1 1 1 0 0 0 0 1 0 1 0 0 0 0 0 0 0 0 0 1 0 1 1 0 1\n",
      " 0 1 1 0 1 1 0 1 0 1 0 0 0 0 0 0 0 0 0 0 0 0 1 1 0 0 0 1 1 1 1 0 1 0 0 1 0\n",
      " 1 0 0 1 1 0 0 1 1 1 0 0 0 0 0 0 1 0 0 0 1 1 0 1 1 1 1 1 1 0 0 1 0 0 0 0 0\n",
      " 0 0 0 0 1 0 1 1 0 1 0 0 0 1 1 0]\n"
     ]
    }
   ],
   "source": [
    "# Predicting Classes\n",
    "y_pred = svclassifier.predict(X_test)\n",
    "print(y_pred)"
   ]
  },
  {
   "cell_type": "code",
   "execution_count": 52,
   "id": "4ded699c-0c9d-4710-841d-0e9d54fa8207",
   "metadata": {},
   "outputs": [
    {
     "name": "stdout",
     "output_type": "stream",
     "text": [
      "              precision    recall  f1-score   support\n",
      "\n",
      "           0       1.00      0.98      0.99       166\n",
      "           1       0.97      1.00      0.99       109\n",
      "\n",
      "    accuracy                           0.99       275\n",
      "   macro avg       0.99      0.99      0.99       275\n",
      "weighted avg       0.99      0.99      0.99       275\n",
      "\n"
     ]
    }
   ],
   "source": [
    "# Evaluate the model\n",
    "print(classification_report(y_test, y_pred))"
   ]
  },
  {
   "cell_type": "markdown",
   "id": "a8d8b8cb-2180-4813-a577-e5db577d44d3",
   "metadata": {},
   "source": [
    "#### Random Forests\n",
    "\n",
    "Random forest is a supervised learning algorithm. The \"forest\" it builds, is an ensemble of decision trees, usually trained with the \"bagging\" method. The general idea of the bagging method is that a combination of learning models increases the overall result.\n",
    "\n",
    "##### Layman Terms\n",
    "Simply put: random forest builds multiple decision trees and merges them together to get a more accurate and stable prediction.\n",
    "\n",
    "##### Fundamental Concept\n",
    "The fundamental concept behind random forest is a simple but powerful one - the wisdom of crowds.\n",
    "\n",
    "The large number of relatively uncorrelated models (trees) operating as a committee will outperform any of the individual constituent models or individual decision tree.\n",
    "\n",
    "##### How it works?\n",
    "First, create a bootstrapped dataset by randomly selecting samples from the original dataset. *We can pick same sample more than once*.\n",
    "\n",
    "Then, create a decision tree using the bootstrapped dataset, but only use a random subset of columns in each step.\n",
    "\n",
    "Now, go back to step 1 and repeat. This results in a wide variety of trees.\n",
    "\n",
    "The variety is what makes Random Forests more effective than individual decision trees.\n",
    "\n",
    "##### How to ensure that the trees diversify each other.\n",
    "- Bagging (Bootstrap Aggregation): Decision trees are very sensitive to the data they are trained on - small changes to the training set can result in significantly different tree structures.\n",
    "- Feature Randomness: Each tree in a random forest can pick only from a random subset of features.\n",
    "\n",
    "##### Implementation\n",
    "We have two choices, we can either use the scikit learn library to import the random forst model and use it directly or we can write our own model from scratch."
   ]
  },
  {
   "cell_type": "code",
   "execution_count": 53,
   "id": "5532d9cb-ab7f-4aaf-80dc-d5343cdff595",
   "metadata": {},
   "outputs": [],
   "source": [
    "import pandas as pd\n",
    "import numpy as np"
   ]
  },
  {
   "cell_type": "code",
   "execution_count": 54,
   "id": "8351edfb-679e-41ec-b910-5dbaf1852622",
   "metadata": {},
   "outputs": [],
   "source": [
    "dataset = pd.read_csv(\"C:\\\\Users\\\\user\\\\Documents\\\\Data Science Files\\\\Jupyter notebooks for Data Science\\\\bill_authentication.csv\")"
   ]
  },
  {
   "cell_type": "code",
   "execution_count": 55,
   "id": "df341926-468e-407e-9a1c-f85d2224821d",
   "metadata": {},
   "outputs": [
    {
     "data": {
      "text/html": [
       "<div>\n",
       "<style scoped>\n",
       "    .dataframe tbody tr th:only-of-type {\n",
       "        vertical-align: middle;\n",
       "    }\n",
       "\n",
       "    .dataframe tbody tr th {\n",
       "        vertical-align: top;\n",
       "    }\n",
       "\n",
       "    .dataframe thead th {\n",
       "        text-align: right;\n",
       "    }\n",
       "</style>\n",
       "<table border=\"1\" class=\"dataframe\">\n",
       "  <thead>\n",
       "    <tr style=\"text-align: right;\">\n",
       "      <th></th>\n",
       "      <th>Variance</th>\n",
       "      <th>Skewness</th>\n",
       "      <th>Curtosis</th>\n",
       "      <th>Entropy</th>\n",
       "      <th>Class</th>\n",
       "    </tr>\n",
       "  </thead>\n",
       "  <tbody>\n",
       "    <tr>\n",
       "      <th>0</th>\n",
       "      <td>3.62160</td>\n",
       "      <td>8.6661</td>\n",
       "      <td>-2.8073</td>\n",
       "      <td>-0.44699</td>\n",
       "      <td>0</td>\n",
       "    </tr>\n",
       "    <tr>\n",
       "      <th>1</th>\n",
       "      <td>4.54590</td>\n",
       "      <td>8.1674</td>\n",
       "      <td>-2.4586</td>\n",
       "      <td>-1.46210</td>\n",
       "      <td>0</td>\n",
       "    </tr>\n",
       "    <tr>\n",
       "      <th>2</th>\n",
       "      <td>3.86600</td>\n",
       "      <td>-2.6383</td>\n",
       "      <td>1.9242</td>\n",
       "      <td>0.10645</td>\n",
       "      <td>0</td>\n",
       "    </tr>\n",
       "    <tr>\n",
       "      <th>3</th>\n",
       "      <td>3.45660</td>\n",
       "      <td>9.5228</td>\n",
       "      <td>-4.0112</td>\n",
       "      <td>-3.59440</td>\n",
       "      <td>0</td>\n",
       "    </tr>\n",
       "    <tr>\n",
       "      <th>4</th>\n",
       "      <td>0.32924</td>\n",
       "      <td>-4.4552</td>\n",
       "      <td>4.5718</td>\n",
       "      <td>-0.98880</td>\n",
       "      <td>0</td>\n",
       "    </tr>\n",
       "  </tbody>\n",
       "</table>\n",
       "</div>"
      ],
      "text/plain": [
       "   Variance  Skewness  Curtosis  Entropy  Class\n",
       "0   3.62160    8.6661   -2.8073 -0.44699      0\n",
       "1   4.54590    8.1674   -2.4586 -1.46210      0\n",
       "2   3.86600   -2.6383    1.9242  0.10645      0\n",
       "3   3.45660    9.5228   -4.0112 -3.59440      0\n",
       "4   0.32924   -4.4552    4.5718 -0.98880      0"
      ]
     },
     "execution_count": 55,
     "metadata": {},
     "output_type": "execute_result"
    }
   ],
   "source": [
    "dataset.head()"
   ]
  },
  {
   "cell_type": "code",
   "execution_count": 56,
   "id": "df25a811-894d-4453-963f-49b912ff9fc7",
   "metadata": {},
   "outputs": [],
   "source": [
    "# To skew the data, divide the dataset into x and y variables\n",
    "X = dataset.iloc[:, 0:4].values #the first four columns 0-3\n",
    "y = dataset.iloc[:, 4].values # the last column (4th column)"
   ]
  },
  {
   "cell_type": "code",
   "execution_count": 57,
   "id": "cc1be30d-6b4b-4149-b2e1-1490280ede5f",
   "metadata": {},
   "outputs": [],
   "source": [
    "# divide the dataset into training and test split\n",
    "from sklearn.model_selection import train_test_split\n",
    "X_train, X_test, y_train, y_test = train_test_split(X, y, test_size = 0.2, random_state = 0)"
   ]
  },
  {
   "cell_type": "code",
   "execution_count": 58,
   "id": "0822e465-4d52-4ff2-8352-ae85b8c712f8",
   "metadata": {},
   "outputs": [],
   "source": [
    "# Apply feature scaling to scale the dataset\n",
    "from sklearn.preprocessing import StandardScaler\n",
    "sc = StandardScaler()\n",
    "X_train = sc.fit_transform(X_train)\n",
    "X_test = sc.fit_transform(X_test)"
   ]
  },
  {
   "cell_type": "code",
   "execution_count": 59,
   "id": "f4e42570-9df7-45d9-bcc1-c8470965f6d7",
   "metadata": {},
   "outputs": [],
   "source": [
    "# Use Random Forest to solve the classification problem\n",
    "from sklearn.ensemble import RandomForestClassifier\n",
    "classifier = RandomForestClassifier(n_estimators = 20, random_state = 0)\n",
    "classifier.fit(X_train, y_train)\n",
    "y_pred = classifier.predict(X_test)"
   ]
  },
  {
   "cell_type": "code",
   "execution_count": 60,
   "id": "e65b3af6-c3b0-4a1c-bc84-fdddbaec50c8",
   "metadata": {},
   "outputs": [
    {
     "name": "stdout",
     "output_type": "stream",
     "text": [
      "[[153   4]\n",
      " [  0 118]]\n",
      "              precision    recall  f1-score   support\n",
      "\n",
      "           0       1.00      0.97      0.99       157\n",
      "           1       0.97      1.00      0.98       118\n",
      "\n",
      "    accuracy                           0.99       275\n",
      "   macro avg       0.98      0.99      0.99       275\n",
      "weighted avg       0.99      0.99      0.99       275\n",
      "\n",
      "0.9854545454545455\n"
     ]
    }
   ],
   "source": [
    "# to see how good our model performs\n",
    "from sklearn.metrics import classification_report, confusion_matrix, accuracy_score\n",
    "print(confusion_matrix(y_test, y_pred))\n",
    "print(classification_report(y_test, y_pred))\n",
    "print(accuracy_score(y_test, y_pred))"
   ]
  },
  {
   "cell_type": "markdown",
   "id": "eebcd80b-b8eb-48b7-910a-4a5b4e810733",
   "metadata": {},
   "source": [
    "Our accuracy is 98% which is good enough. "
   ]
  },
  {
   "cell_type": "markdown",
   "id": "6a4854e2-95ad-4a8c-9a51-839a7a8bd2ad",
   "metadata": {},
   "source": [
    "#### K-Means Clustering\n",
    "Overview\n",
    "- K-means clustering is one of the simplest and popular unsupervised machine learning algorithms.\n",
    "- There are a plethora of real-world applications of K-Means Clustering.\n",
    "- The implementation of K-Means is easy when compared to algorithms like SVMs, etc\n",
    "- Our aim here is to minimize the distance between the points within a cluster.\n",
    "- There is an algorithm that tries to minimize the distance of the points in a cluster with their centroid - the k-means clustering technique.\n",
    "\n",
    "##### Main Objective\n",
    "The main objective of the K-Means algorithm is to minimize the sum of distances between the points and their respective cluster centroid.\n",
    "\n",
    "##### What is Clustering?\n",
    "Clustering is the process of dividing the entire data into groups (also known as clusters) based on the patterns in the data.\n",
    "\n",
    "##### What is Unsupervised Learning?\n",
    "Unsupervised Learning is a type of machine learning algorithm used to draw inferences from datasets consisting of input data without labeled responses.\n",
    "\n",
    "When we have a target variable to predict based on a given set of predictors or independent variables, such problems are called supervised learning problems.\n",
    "\n",
    "In clustering, we do not have a target to predict. We look at the data and then try to club similar observations and form different groups. Hence, it is an unsupervised learning problem.\n",
    "\n",
    "##### Applications of Clustering\n",
    "- Customer Segmentation\n",
    "- Document Clustering\n",
    "- Image Segmentation\n",
    "- Recommendation Engines\n",
    "\n",
    "##### How it works.\n",
    "- Step 1 - Choose the number of clusters k\n",
    "- Step 2 - Select k random points from the data as centroids.\n",
    "- Step 3 - Assign all the points to the closest cluster centroid.\n",
    "- Step 4 - Recompute the centroids of newly formed clusters.\n",
    "- Step 5 - Repeat steps 3 and 4.\n",
    "\n",
    "#### When to stop k-means clustering?\n",
    "- Centroids of newly formed clusters do not change.\n",
    "- Points remain in the same cluster.\n",
    "- Maximum number if iterations are reached.\n",
    "\n",
    "##### Implementation\n",
    "We have two choices, we can either use the scikit learn library to import the k-means model and use it directly or we can write our own model frm scratch."
   ]
  },
  {
   "cell_type": "code",
   "execution_count": 61,
   "id": "bc86b48c-96c4-46a1-b69c-e7205901082d",
   "metadata": {},
   "outputs": [],
   "source": [
    "# import the libraries\n",
    "import matplotlib.pyplot as plt\n",
    "import numpy as np\n",
    "from sklearn.cluster import KMeans"
   ]
  },
  {
   "cell_type": "code",
   "execution_count": 62,
   "id": "dae14fb8-a4d5-4ab7-9314-712217c48d09",
   "metadata": {},
   "outputs": [],
   "source": [
    "# Prepare the Data\n",
    "X = np.array([[5, 3],\n",
    "              [10, 15],\n",
    "              [15, 12],\n",
    "              [24, 10],\n",
    "              [30, 45],\n",
    "              [85, 70],\n",
    "              [71, 80],\n",
    "              [60, 78],\n",
    "              [55, 52],\n",
    "              [80, 91],])             "
   ]
  },
  {
   "cell_type": "code",
   "execution_count": 63,
   "id": "b9af73dc-75a4-4981-a0a7-c3fc277be36d",
   "metadata": {},
   "outputs": [
    {
     "data": {
      "text/plain": [
       "<matplotlib.collections.PathCollection at 0x1e0df0d7160>"
      ]
     },
     "execution_count": 63,
     "metadata": {},
     "output_type": "execute_result"
    },
    {
     "data": {
      "image/png": "[encoded data removed]",
      "text/plain": [
       "<Figure size 640x480 with 1 Axes>"
      ]
     },
     "metadata": {},
     "output_type": "display_data"
    }
   ],
   "source": [
    "# Visualise the data\n",
    "plt.scatter(X[:, 0], X[:, 1], label = 'True Position')"
   ]
  },
  {
   "cell_type": "code",
   "execution_count": 64,
   "id": "9876ac7b-4b02-4364-b6d0-ff90f4bc9e9c",
   "metadata": {},
   "outputs": [
    {
     "data": {
      "text/plain": [
       "KMeans(n_clusters=2)"
      ]
     },
     "execution_count": 64,
     "metadata": {},
     "output_type": "execute_result"
    }
   ],
   "source": [
    "# Create Clusters\n",
    "kmeans = KMeans(n_clusters = 2)\n",
    "kmeans.fit(X)"
   ]
  },
  {
   "cell_type": "code",
   "execution_count": 65,
   "id": "1b01f511-9230-45ef-ab0e-47ac9315fdbd",
   "metadata": {},
   "outputs": [
    {
     "name": "stdout",
     "output_type": "stream",
     "text": [
      "[[16.8 17. ]\n",
      " [70.2 74.2]]\n",
      "[0 0 0 0 0 1 1 1 1 1]\n"
     ]
    }
   ],
   "source": [
    "# Explore the clusters\n",
    "print(kmeans.cluster_centers_)\n",
    "print(kmeans.labels_)"
   ]
  },
  {
   "cell_type": "code",
   "execution_count": 66,
   "id": "f01687c6-4358-4ecd-83fd-6878c546df47",
   "metadata": {},
   "outputs": [
    {
     "data": {
      "text/plain": [
       "<matplotlib.collections.PathCollection at 0x1e0df134be0>"
      ]
     },
     "execution_count": 66,
     "metadata": {},
     "output_type": "execute_result"
    },
    {
     "data": {
      "image/png": "[encoded data removed]",
      "text/plain": [
       "<Figure size 640x480 with 1 Axes>"
      ]
     },
     "metadata": {},
     "output_type": "display_data"
    }
   ],
   "source": [
    "# Visualise k-means with two clusters\n",
    "plt.scatter(X[:, 0], X[:, 1], c = kmeans.labels_, cmap = 'rainbow')"
   ]
  },
  {
   "cell_type": "code",
   "execution_count": 67,
   "id": "61c4a03e-04b3-4aca-ac9e-9dc9a8ce3790",
   "metadata": {},
   "outputs": [
    {
     "data": {
      "text/plain": [
       "<matplotlib.collections.PathCollection at 0x1e0df2e8700>"
      ]
     },
     "execution_count": 67,
     "metadata": {},
     "output_type": "execute_result"
    },
    {
     "data": {
      "image/png": "[encoded data removed]",
      "text/plain": [
       "<Figure size 640x480 with 1 Axes>"
      ]
     },
     "metadata": {},
     "output_type": "display_data"
    }
   ],
   "source": [
    "# Try with 3 clusters\n",
    "kmeans = KMeans(n_clusters = 3)\n",
    "kmeans.fit(X)\n",
    "plt.scatter(X[:, 0], X[:, 1], c = kmeans.labels_, cmap = 'rainbow')"
   ]
  },
  {
   "cell_type": "code",
   "execution_count": 68,
   "id": "f86ffc67-4bcb-4a97-99b5-66737ef100b4",
   "metadata": {},
   "outputs": [
    {
     "data": {
      "text/plain": [
       "<matplotlib.collections.PathCollection at 0x1e0e06f6670>"
      ]
     },
     "execution_count": 68,
     "metadata": {},
     "output_type": "execute_result"
    },
    {
     "data": {
      "image/png": "[encoded data removed]",
      "text/plain": [
       "<Figure size 640x480 with 1 Axes>"
      ]
     },
     "metadata": {},
     "output_type": "display_data"
    }
   ],
   "source": [
    "# Visualise with the clusters\n",
    "plt.scatter(X[:, 0], X[:, 1], c = kmeans.labels_, cmap = 'rainbow')\n",
    "plt.scatter(kmeans.cluster_centers_[:, 0], kmeans.cluster_centers_[:, 1], color = 'black')"
   ]
  },
  {
   "cell_type": "markdown",
   "id": "7afa9707-e143-463f-99d1-f1a05c5affc6",
   "metadata": {},
   "source": [
    "Overview\n",
    "- The K-nearest neighbors(KNN) algorithm is a simple, easy-to-implement supervised machine learning algorithm that can be used to solve both classification and regression problems.\n",
    "- A supervised machine learning algorithm is one that relies on labeled input data to learn a function that produces an appropriate output when given new unlabeled data.\n",
    "\n",
    "#### H-Nearest Neighbors (KNN)\n",
    "The KNN algorithm assumes that similar things exist in close proximity. In other words, similar things are near to each other.\n",
    "\n",
    "KNN captures the idea of similarity (sometimes called distance, proximity, or closeness) with some mathematics we might have learned in our childhood - calculating the distance between points on a graph.\n",
    "\n",
    "##### How KNN Algorithm works\n",
    "- Load the data\n",
    "- Initialise K to your chosen number of neighbors.\n",
    "- For each examplein data:\n",
    "    - Calculate the distance between the query example and current example from the data.\n",
    "    - Add the distance and the index of the example to an ordered collection.\n",
    "- Sort the ordered collection of distances and indices from smallest to largest (in ascending order) by the distances.\n",
    "- Pick the first K entries from the sorted collection.\n",
    "- Get the labels of the selected K entries.\n",
    "\n",
    "##### Choosing the right value for K\n",
    "To select the K that's right for your data, we run the KNN algorithm several times with different values of K and choose the K that reduces the number of errors we encounter while maintaining the algorithm's ability to accurately make predictions when it's given data it hasn't seen before.\n",
    "\n",
    "##### Advantages\n",
    "- The algorithm is simple and easy to implement.\n",
    "- There's no need to build a model, tune several parameters, to make additional assumptions.\n",
    "- The algorithm is versatile. It can be used for classification, regression, and search (as we will see in the next section).\n",
    "\n",
    "##### Disadvantage\n",
    "- The algorithm gets significantly slower as the number of examples and/or predictors/independent variables increase.\n",
    "\n",
    "##### Applications of KNN\n",
    "KNN can be useful in solving problems that have solutions that depend on identifying similar objects. An example of this is using the KNN algorithm in recommender systems, an application of KNN-search.\n",
    "\n",
    "At a large scale, this would look like recommending products on Amazon, articles on Medium, movies on Netflix, or videos on YouTube. Although, we can be certain they all use more efficient means of making recommendations due to the enormous volume of data they process.\n",
    "\n",
    "##### Implementation\n",
    "We have two choices, we can either use the scikit learn library to imort the k-nn model and use it directly or we can write our own model from scratch."
   ]
  },
  {
   "cell_type": "code",
   "execution_count": 69,
   "id": "09c4e83d-dcd3-4102-b7d3-9b5a5945c64c",
   "metadata": {},
   "outputs": [],
   "source": [
    "# import warnings filter\n",
    "from warnings import simplefilter\n",
    "# ignore all future warnings\n",
    "simplefilter(action='ignore', category=FutureWarning)"
   ]
  },
  {
   "cell_type": "code",
   "execution_count": 70,
   "id": "20aa7702-2484-4342-b5bd-c954592231af",
   "metadata": {},
   "outputs": [],
   "source": [
    "# We are using the Iris dataset\n",
    "# import our libraries\n",
    "import numpy as np\n",
    "import matplotlib.pyplot as plt\n",
    "import pandas as pd"
   ]
  },
  {
   "cell_type": "code",
   "execution_count": 71,
   "id": "4e5372ff-7733-47ab-af6b-e9c9105abca3",
   "metadata": {},
   "outputs": [],
   "source": [
    "# Accessing the data\n",
    "url = 'https://archive.ics.uci.edu/ml/machine-learning-databases/iris/iris.data'\n",
    "\n",
    "# Assign column names to the dataset\n",
    "col_names = ['Sepal_Length','Sepal_Width','Petal_Length','Petal_Width','Class']\n",
    "\n",
    "# Read the dataset to pandas dataframe\n",
    "dataset = pd.read_csv(url, names = col_names)"
   ]
  },
  {
   "cell_type": "code",
   "execution_count": 72,
   "id": "bf17733f-2c35-45c4-bac8-3dd5614ea3ff",
   "metadata": {},
   "outputs": [
    {
     "data": {
      "text/html": [
       "<div>\n",
       "<style scoped>\n",
       "    .dataframe tbody tr th:only-of-type {\n",
       "        vertical-align: middle;\n",
       "    }\n",
       "\n",
       "    .dataframe tbody tr th {\n",
       "        vertical-align: top;\n",
       "    }\n",
       "\n",
       "    .dataframe thead th {\n",
       "        text-align: right;\n",
       "    }\n",
       "</style>\n",
       "<table border=\"1\" class=\"dataframe\">\n",
       "  <thead>\n",
       "    <tr style=\"text-align: right;\">\n",
       "      <th></th>\n",
       "      <th>Sepal_Length</th>\n",
       "      <th>Sepal_Width</th>\n",
       "      <th>Petal_Length</th>\n",
       "      <th>Petal_Width</th>\n",
       "      <th>Class</th>\n",
       "    </tr>\n",
       "  </thead>\n",
       "  <tbody>\n",
       "    <tr>\n",
       "      <th>0</th>\n",
       "      <td>5.1</td>\n",
       "      <td>3.5</td>\n",
       "      <td>1.4</td>\n",
       "      <td>0.2</td>\n",
       "      <td>Iris-setosa</td>\n",
       "    </tr>\n",
       "    <tr>\n",
       "      <th>1</th>\n",
       "      <td>4.9</td>\n",
       "      <td>3.0</td>\n",
       "      <td>1.4</td>\n",
       "      <td>0.2</td>\n",
       "      <td>Iris-setosa</td>\n",
       "    </tr>\n",
       "    <tr>\n",
       "      <th>2</th>\n",
       "      <td>4.7</td>\n",
       "      <td>3.2</td>\n",
       "      <td>1.3</td>\n",
       "      <td>0.2</td>\n",
       "      <td>Iris-setosa</td>\n",
       "    </tr>\n",
       "    <tr>\n",
       "      <th>3</th>\n",
       "      <td>4.6</td>\n",
       "      <td>3.1</td>\n",
       "      <td>1.5</td>\n",
       "      <td>0.2</td>\n",
       "      <td>Iris-setosa</td>\n",
       "    </tr>\n",
       "    <tr>\n",
       "      <th>4</th>\n",
       "      <td>5.0</td>\n",
       "      <td>3.6</td>\n",
       "      <td>1.4</td>\n",
       "      <td>0.2</td>\n",
       "      <td>Iris-setosa</td>\n",
       "    </tr>\n",
       "  </tbody>\n",
       "</table>\n",
       "</div>"
      ],
      "text/plain": [
       "   Sepal_Length  Sepal_Width  Petal_Length  Petal_Width        Class\n",
       "0           5.1          3.5           1.4          0.2  Iris-setosa\n",
       "1           4.9          3.0           1.4          0.2  Iris-setosa\n",
       "2           4.7          3.2           1.3          0.2  Iris-setosa\n",
       "3           4.6          3.1           1.5          0.2  Iris-setosa\n",
       "4           5.0          3.6           1.4          0.2  Iris-setosa"
      ]
     },
     "execution_count": 72,
     "metadata": {},
     "output_type": "execute_result"
    }
   ],
   "source": [
    "dataset.head()"
   ]
  },
  {
   "cell_type": "code",
   "execution_count": 73,
   "id": "095507ee-144a-4bce-b5a7-acff730d50cd",
   "metadata": {},
   "outputs": [],
   "source": [
    "# Split the dataset into attributes and labels\n",
    "X = dataset.iloc[:, :-1].values\n",
    "y = dataset.iloc[:, 4].values"
   ]
  },
  {
   "cell_type": "code",
   "execution_count": 74,
   "id": "84f88751-3cff-4a11-9dff-3b08cfa2e82f",
   "metadata": {},
   "outputs": [],
   "source": [
    "# Divide the dataset into training and test splits\n",
    "from sklearn.model_selection import train_test_split\n",
    "X_train, X_test, y_train, y_test = train_test_split(X, y, test_size = 0.20)"
   ]
  },
  {
   "cell_type": "code",
   "execution_count": 75,
   "id": "f1f1720d-5f64-49ae-bc8c-e6cd6d187e07",
   "metadata": {},
   "outputs": [],
   "source": [
    "# Scale the features\n",
    "from sklearn.preprocessing import StandardScaler\n",
    "scaler = StandardScaler()\n",
    "scaler.fit(X_train)\n",
    "X_train = scaler.transform(X_train)\n",
    "y_test = scaler.transform(X_test)"
   ]
  },
  {
   "cell_type": "code",
   "execution_count": 76,
   "id": "eded17cc-4d58-45cf-bbce-91fad4b823c2",
   "metadata": {},
   "outputs": [
    {
     "data": {
      "text/plain": [
       "KNeighborsClassifier()"
      ]
     },
     "execution_count": 76,
     "metadata": {},
     "output_type": "execute_result"
    }
   ],
   "source": [
    "# Fit the KNN algorithm\n",
    "from sklearn.neighbors import KNeighborsClassifier\n",
    "classifier = KNeighborsClassifier(n_neighbors=5, metric='minkowski')\n",
    "classifier.fit(X_train, y_train)"
   ]
  },
  {
   "cell_type": "code",
   "execution_count": 77,
   "id": "619a9e0d-2332-4bb6-b196-4e6509f52a72",
   "metadata": {},
   "outputs": [],
   "source": [
    "# Make predictions on our test data\n",
    "y_pred = classifier.predict(X_test)"
   ]
  },
  {
   "cell_type": "code",
   "execution_count": 78,
   "id": "99a15f4d-3a38-4c75-a4c7-f32b6e6fe0d9",
   "metadata": {},
   "outputs": [
    {
     "ename": "ValueError",
     "evalue": "Classification metrics can't handle a mix of continuous-multioutput and binary targets",
     "output_type": "error",
     "traceback": [
      "\u001b[1;31m---------------------------------------------------------------------------\u001b[0m",
      "\u001b[1;31mValueError\u001b[0m                                Traceback (most recent call last)",
      "\u001b[1;32m~\\AppData\\Local\\Temp\\ipykernel_4228\\2798211589.py\u001b[0m in \u001b[0;36m<module>\u001b[1;34m\u001b[0m\n\u001b[0;32m      1\u001b[0m \u001b[1;31m# Evaluate the algorithm using the confusion matrix\u001b[0m\u001b[1;33m\u001b[0m\u001b[1;33m\u001b[0m\u001b[0m\n\u001b[0;32m      2\u001b[0m \u001b[1;32mfrom\u001b[0m \u001b[0msklearn\u001b[0m\u001b[1;33m.\u001b[0m\u001b[0mmetrics\u001b[0m \u001b[1;32mimport\u001b[0m \u001b[0mclassification_report\u001b[0m\u001b[1;33m,\u001b[0m \u001b[0mconfusion_matrix\u001b[0m\u001b[1;33m\u001b[0m\u001b[1;33m\u001b[0m\u001b[0m\n\u001b[1;32m----> 3\u001b[1;33m \u001b[0mprint\u001b[0m\u001b[1;33m(\u001b[0m\u001b[0mconfusion_matrix\u001b[0m\u001b[1;33m(\u001b[0m\u001b[0my_test\u001b[0m\u001b[1;33m,\u001b[0m \u001b[0my_pred\u001b[0m\u001b[1;33m)\u001b[0m\u001b[1;33m)\u001b[0m\u001b[1;33m\u001b[0m\u001b[1;33m\u001b[0m\u001b[0m\n\u001b[0m\u001b[0;32m      4\u001b[0m \u001b[0mprint\u001b[0m\u001b[1;33m(\u001b[0m\u001b[0mclassification_report\u001b[0m\u001b[1;33m(\u001b[0m\u001b[0my_test\u001b[0m\u001b[1;33m,\u001b[0m \u001b[0my_pred\u001b[0m\u001b[1;33m)\u001b[0m\u001b[1;33m)\u001b[0m\u001b[1;33m\u001b[0m\u001b[1;33m\u001b[0m\u001b[0m\n",
      "\u001b[1;32m~\\anaconda3\\lib\\site-packages\\sklearn\\metrics\\_classification.py\u001b[0m in \u001b[0;36mconfusion_matrix\u001b[1;34m(y_true, y_pred, labels, sample_weight, normalize)\u001b[0m\n\u001b[0;32m    305\u001b[0m     \u001b[1;33m(\u001b[0m\u001b[1;36m0\u001b[0m\u001b[1;33m,\u001b[0m \u001b[1;36m2\u001b[0m\u001b[1;33m,\u001b[0m \u001b[1;36m1\u001b[0m\u001b[1;33m,\u001b[0m \u001b[1;36m1\u001b[0m\u001b[1;33m)\u001b[0m\u001b[1;33m\u001b[0m\u001b[1;33m\u001b[0m\u001b[0m\n\u001b[0;32m    306\u001b[0m     \"\"\"\n\u001b[1;32m--> 307\u001b[1;33m     \u001b[0my_type\u001b[0m\u001b[1;33m,\u001b[0m \u001b[0my_true\u001b[0m\u001b[1;33m,\u001b[0m \u001b[0my_pred\u001b[0m \u001b[1;33m=\u001b[0m \u001b[0m_check_targets\u001b[0m\u001b[1;33m(\u001b[0m\u001b[0my_true\u001b[0m\u001b[1;33m,\u001b[0m \u001b[0my_pred\u001b[0m\u001b[1;33m)\u001b[0m\u001b[1;33m\u001b[0m\u001b[1;33m\u001b[0m\u001b[0m\n\u001b[0m\u001b[0;32m    308\u001b[0m     \u001b[1;32mif\u001b[0m \u001b[0my_type\u001b[0m \u001b[1;32mnot\u001b[0m \u001b[1;32min\u001b[0m \u001b[1;33m(\u001b[0m\u001b[1;34m\"binary\"\u001b[0m\u001b[1;33m,\u001b[0m \u001b[1;34m\"multiclass\"\u001b[0m\u001b[1;33m)\u001b[0m\u001b[1;33m:\u001b[0m\u001b[1;33m\u001b[0m\u001b[1;33m\u001b[0m\u001b[0m\n\u001b[0;32m    309\u001b[0m         \u001b[1;32mraise\u001b[0m \u001b[0mValueError\u001b[0m\u001b[1;33m(\u001b[0m\u001b[1;34m\"%s is not supported\"\u001b[0m \u001b[1;33m%\u001b[0m \u001b[0my_type\u001b[0m\u001b[1;33m)\u001b[0m\u001b[1;33m\u001b[0m\u001b[1;33m\u001b[0m\u001b[0m\n",
      "\u001b[1;32m~\\anaconda3\\lib\\site-packages\\sklearn\\metrics\\_classification.py\u001b[0m in \u001b[0;36m_check_targets\u001b[1;34m(y_true, y_pred)\u001b[0m\n\u001b[0;32m     91\u001b[0m \u001b[1;33m\u001b[0m\u001b[0m\n\u001b[0;32m     92\u001b[0m     \u001b[1;32mif\u001b[0m \u001b[0mlen\u001b[0m\u001b[1;33m(\u001b[0m\u001b[0my_type\u001b[0m\u001b[1;33m)\u001b[0m \u001b[1;33m>\u001b[0m \u001b[1;36m1\u001b[0m\u001b[1;33m:\u001b[0m\u001b[1;33m\u001b[0m\u001b[1;33m\u001b[0m\u001b[0m\n\u001b[1;32m---> 93\u001b[1;33m         raise ValueError(\n\u001b[0m\u001b[0;32m     94\u001b[0m             \"Classification metrics can't handle a mix of {0} and {1} targets\".format(\n\u001b[0;32m     95\u001b[0m                 \u001b[0mtype_true\u001b[0m\u001b[1;33m,\u001b[0m \u001b[0mtype_pred\u001b[0m\u001b[1;33m\u001b[0m\u001b[1;33m\u001b[0m\u001b[0m\n",
      "\u001b[1;31mValueError\u001b[0m: Classification metrics can't handle a mix of continuous-multioutput and binary targets"
     ]
    }
   ],
   "source": [
    "# Evaluate the algorithm using the confusion matrix\n",
    "from sklearn.metrics import classification_report, confusion_matrix\n",
    "print(confusion_matrix(y_test, y_pred))\n",
    "print(classification_report(y_test, y_pred))"
   ]
  },
  {
   "cell_type": "markdown",
   "id": "5de91174-4084-4f37-8914-71e7090d07b5",
   "metadata": {},
   "source": [
    "#### Gradient Descent\n",
    "\n",
    "In statistics, Machine Learning and other Data Science fields, we optimize a lot of stuff\n",
    "- When we fit a line with Linear Regression, we optimize the Intercept and Slope.\n",
    "- When we use Logistic Regression, we optimize a squiggle.\n",
    "- When we use t-SNE, we optimize clusters.\n",
    "\n",
    "The cool thing is that Gradient Descent can optimize all these things and much more."
   ]
  },
  {
   "cell_type": "code",
   "execution_count": null,
   "id": "f1349f19-bc81-4c90-a8cf-abfd709d5379",
   "metadata": {},
   "outputs": [],
   "source": []
  }
 ],
 "metadata": {
  "kernelspec": {
   "display_name": "Python 3 (ipykernel)",
   "language": "python",
   "name": "python3"
  },
  "language_info": {
   "codemirror_mode": {
    "name": "ipython",
    "version": 3
   },
   "file_extension": ".py",
   "mimetype": "text/x-python",
   "name": "python",
   "nbconvert_exporter": "python",
   "pygments_lexer": "ipython3",
   "version": "3.9.13"
  }
 },
 "nbformat": 4,
 "nbformat_minor": 5
}
